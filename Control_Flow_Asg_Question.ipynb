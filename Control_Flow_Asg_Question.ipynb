{
  "nbformat": 4,
  "nbformat_minor": 0,
  "metadata": {
    "colab": {
      "provenance": [],
      "authorship_tag": "ABX9TyPQC+cYMFXfFGizJ6pyeOzh",
      "include_colab_link": true
    },
    "kernelspec": {
      "name": "python3",
      "display_name": "Python 3"
    },
    "language_info": {
      "name": "python"
    }
  },
  "cells": [
    {
      "cell_type": "markdown",
      "metadata": {
        "id": "view-in-github",
        "colab_type": "text"
      },
      "source": [
        "<a href=\"https://colab.research.google.com/github/Rahul896911/Control_flow_asg_question/blob/main/Control_Flow_Asg_Question.ipynb\" target=\"_parent\"><img src=\"https://colab.research.google.com/assets/colab-badge.svg\" alt=\"Open In Colab\"/></a>"
      ]
    },
    {
      "cell_type": "markdown",
      "source": [],
      "metadata": {
        "id": "G52h7qe_9-lC"
      }
    },
    {
      "cell_type": "code",
      "source": [
        "Basic If-Else Statements:\n"
      ],
      "metadata": {
        "id": "g_ea7RMA9-9O"
      },
      "execution_count": null,
      "outputs": []
    },
    {
      "cell_type": "code",
      "execution_count": null,
      "metadata": {
        "colab": {
          "base_uri": "https://localhost:8080/"
        },
        "id": "-nUeXebAPq3x",
        "outputId": "bd50275e-8842-4b87-b7dd-49b4536f111a"
      },
      "outputs": [
        {
          "output_type": "stream",
          "name": "stdout",
          "text": [
            "Enter a number: 12\n",
            "Positive number\n"
          ]
        }
      ],
      "source": [
        "#Q1 To check if a given numbers is positive or negative,we can use the following code snippt:\n",
        "num = float(input(\"Enter a number: \"))\n",
        "if num > 0:\n",
        "    print(\"Positive number\")\n",
        "elif num == 0:\n",
        "    print(\"Zero\")\n",
        "else:\n",
        "    print(\"Negative number\")\n"
      ]
    },
    {
      "cell_type": "code",
      "source": [
        "#Q2 To determine if a person is eligible to vote based on their age,we can use the following code snippet:\n",
        "age = int(input(\"Enter your age: \"))\n",
        "if age >= 18:\n",
        "    print(\"You are eligible to vote!\")\n",
        "else:\n",
        "    print(\"You are not eligible to vote yet.\")\n"
      ],
      "metadata": {
        "colab": {
          "base_uri": "https://localhost:8080/"
        },
        "id": "gy2kdZOpQyQM",
        "outputId": "7967b4a2-8c68-4542-ba58-8719e11d9c8b"
      },
      "execution_count": null,
      "outputs": [
        {
          "output_type": "stream",
          "name": "stdout",
          "text": [
            "Enter your age: 23\n",
            "You are eligible to vote!\n"
          ]
        }
      ]
    },
    {
      "cell_type": "code",
      "source": [
        "#Q3 To find the maximum of two numbers using if-else statements,you can use the following code snippet:\n",
        "num1 = float(input(\"Enter first number: \"))\n",
        "num2 = float(input(\"Enter second number: \"))\n",
        "if num1 > num2:\n",
        "    print(num1, \"is the maximum\")\n",
        "else:\n",
        "    print(num2, \"is the maximum\")\n"
      ],
      "metadata": {
        "colab": {
          "base_uri": "https://localhost:8080/"
        },
        "id": "zD4vFHxDROBG",
        "outputId": "a60c505e-5f51-4358-bfe7-ea21823a35cd"
      },
      "execution_count": null,
      "outputs": [
        {
          "output_type": "stream",
          "name": "stdout",
          "text": [
            "Enter first number: 76\n",
            "Enter second number: 987\n",
            "987.0 is the maximum\n"
          ]
        }
      ]
    },
    {
      "cell_type": "code",
      "source": [
        "#Q4 To classify a given year as a leap year or not , we can use the following code snippet:\n",
        "year = int(input(\"Enter a year: \"))\n",
        "if (year % 4) == 0:\n",
        "    if (year % 100) == 0:\n",
        "        if (year % 400) == 0:\n",
        "            print(year, \"is a leap year\")\n",
        "        else:\n",
        "            print(year, \"is not a leap year\")\n",
        "    else:\n",
        "        print(year, \"is a leap year\")\n",
        "else:\n",
        "    print(year, \"is not a leap year\")\n"
      ],
      "metadata": {
        "colab": {
          "base_uri": "https://localhost:8080/"
        },
        "id": "SAknW7aORpmw",
        "outputId": "dda8c09a-a892-4822-c5ab-d1de0a7b7601"
      },
      "execution_count": null,
      "outputs": [
        {
          "output_type": "stream",
          "name": "stdout",
          "text": [
            "Enter a year: 878\n",
            "878 is not a leap year\n"
          ]
        }
      ]
    },
    {
      "cell_type": "code",
      "source": [
        "#Q5 To check whether a character is a vowel or a consonant,we can use the following:\n",
        "char = input(\"Enter a character: \")\n",
        "if char in ['a', 'e', 'i', 'o', 'u']:\n",
        "    print(char, \"is a vowel\")\n",
        "else:\n",
        "    print(char, \"is a consonant\")\n"
      ],
      "metadata": {
        "colab": {
          "base_uri": "https://localhost:8080/"
        },
        "id": "YqliIu3kSBIZ",
        "outputId": "bddd98e4-95e1-470f-b96a-fe97331b0b14"
      },
      "execution_count": null,
      "outputs": [
        {
          "output_type": "stream",
          "name": "stdout",
          "text": [
            "Enter a character: 45\n",
            "45 is a consonant\n"
          ]
        }
      ]
    },
    {
      "cell_type": "code",
      "source": [
        "#Q6 To determine whether a given numbers is even or odd,we can use the following code snippet :\n",
        "num = int(input(\"Enter a number: \"))\n",
        "if (num % 2) == 0:\n",
        "    print(num, \"is even\")\n",
        "else:\n",
        "    print(num, \"is odd\")\n"
      ],
      "metadata": {
        "colab": {
          "base_uri": "https://localhost:8080/"
        },
        "id": "MfKfR-zJSfcZ",
        "outputId": "a1478dd4-93c2-4b26-9f0a-c8c61b9dcd32"
      },
      "execution_count": null,
      "outputs": [
        {
          "output_type": "stream",
          "name": "stdout",
          "text": [
            "Enter a number: 12\n",
            "12 is even\n"
          ]
        }
      ]
    },
    {
      "cell_type": "code",
      "source": [
        "#Q7 To calculate the absolute value of a number without using the abs() function,we can use the following code snippet:\n",
        "num = float(input(\"Enter a number: \"))\n",
        "if num < 0:\n",
        "    abs_val = -num\n",
        "else:\n",
        "    abs_val = num\n",
        "print(\"The absolute value of\", num, \"is\", abs_val)\n"
      ],
      "metadata": {
        "colab": {
          "base_uri": "https://localhost:8080/"
        },
        "id": "4TAFLPjuTM1d",
        "outputId": "1ce63fc6-9b32-4d7e-fb3b-3ee8cb0781c9"
      },
      "execution_count": null,
      "outputs": [
        {
          "output_type": "stream",
          "name": "stdout",
          "text": [
            "Enter a number: 12\n",
            "The absolute value of 12.0 is 12.0\n"
          ]
        }
      ]
    },
    {
      "cell_type": "code",
      "source": [
        "#Q8 To determine the largest of three given numbers using if-else statements,we can use the following code snippet :\n",
        "num1 = float(input(\"Enter first number: \"))\n",
        "num2 = float(input(\"Enter second number: \"))\n",
        "num3 = float(input(\"Enter third number: \"))\n",
        "if (num1 >= num2) and (num1 >= num3):\n",
        "    largest = num1\n",
        "elif (num2 >= num1) and (num2 >= num3):\n",
        "    largest = num2\n",
        "else:\n",
        "    largest = num3\n",
        "print(\"The largest number is\", largest)\n"
      ],
      "metadata": {
        "colab": {
          "base_uri": "https://localhost:8080/"
        },
        "id": "06kczfE2Ttpo",
        "outputId": "9fb2984a-9cda-42b4-c9ed-49bc8053cba4"
      },
      "execution_count": null,
      "outputs": [
        {
          "output_type": "stream",
          "name": "stdout",
          "text": [
            "Enter first number: 2335\n",
            "Enter second number: 577475\n",
            "Enter third number: 894874785\n",
            "The largest number is 894874785.0\n"
          ]
        }
      ]
    },
    {
      "cell_type": "code",
      "source": [
        "#Q9 To check if  a given string is a palindrome,you can use the following code snippet :\n",
        "string = input(\"Enter a string: \")\n",
        "if string == string[::-1]:\n",
        "    print(string, \"is a palindrome\")\n",
        "else:\n",
        "    print(string, \"is not a palindrome\")\n"
      ],
      "metadata": {
        "colab": {
          "base_uri": "https://localhost:8080/"
        },
        "id": "_Ex16-hyUj_X",
        "outputId": "53183c89-06b7-4fdf-9696-d339965ec17c"
      },
      "execution_count": null,
      "outputs": [
        {
          "output_type": "stream",
          "name": "stdout",
          "text": [
            "Enter a string: 12232\n",
            "12232 is not a palindrome\n"
          ]
        }
      ]
    },
    {
      "cell_type": "code",
      "source": [
        "#Q10 To calculate the grade based on a student's score, you can use the following code snippet:\n",
        "score = float(input(\"Enter your score: \"))\n",
        "if score >= 90:\n",
        "    grade = 'A'\n",
        "elif score >= 80:\n",
        "    grade = 'B'\n",
        "elif score >= 70:\n",
        "    grade = 'C'\n",
        "elif score >= 60:\n",
        "    grade = 'D'\n",
        "else:\n",
        "    grade = 'F'\n",
        "print(\"Your grade is\", grade)\n"
      ],
      "metadata": {
        "colab": {
          "base_uri": "https://localhost:8080/"
        },
        "id": "9dk2Me3_Xhu1",
        "outputId": "dc14437a-0362-4199-c90f-52c2622e4f67"
      },
      "execution_count": null,
      "outputs": [
        {
          "output_type": "stream",
          "name": "stdout",
          "text": [
            "Enter your score: 60\n",
            "Your grade is D\n"
          ]
        }
      ]
    },
    {
      "cell_type": "markdown",
      "source": [
        "Nested If-Else Statements:"
      ],
      "metadata": {
        "id": "0xpLupXK-O7Z"
      }
    },
    {
      "cell_type": "code",
      "source": [
        "#Q11 Here's a Python program that finds the largest among three numbers using nested if-else statements:\n",
        "a = 10\n",
        "b = 20\n",
        "c = 30\n",
        "\n",
        "if a > b:\n",
        "    if a > c:\n",
        "        print(\"a is the largest number\")\n",
        "    else:\n",
        "        print(\"c is the largest number\")\n",
        "else:\n",
        "    if b > c:\n",
        "        print(\"b is the largest number\")\n",
        "    else:\n",
        "        print(\"c is the largest number\")\n"
      ],
      "metadata": {
        "id": "xs0o_nGmX0nj",
        "colab": {
          "base_uri": "https://localhost:8080/"
        },
        "outputId": "e2de5735-71ac-4b64-ae70-53ddcc84a57e"
      },
      "execution_count": null,
      "outputs": [
        {
          "output_type": "stream",
          "name": "stdout",
          "text": [
            "c is the largest number\n"
          ]
        }
      ]
    },
    {
      "cell_type": "code",
      "source": [
        "#Q12 Here's a python program that determines if a triangle is equilateral,isosceles,or scalene:\n",
        "a = 3\n",
        "b = 4\n",
        "c = 5\n",
        "\n",
        "if a == b == c:\n",
        "    print(\"Equilateral triangle\")\n",
        "elif a == b or b == c or c == a:\n",
        "    print(\"Isosceles triangle\")\n",
        "else:\n",
        "    print(\"Scalene triangle\")\n"
      ],
      "metadata": {
        "colab": {
          "base_uri": "https://localhost:8080/"
        },
        "id": "3Mpmxcyc_PfP",
        "outputId": "71b0e2ac-7919-4914-8608-4c47378f8847"
      },
      "execution_count": null,
      "outputs": [
        {
          "output_type": "stream",
          "name": "stdout",
          "text": [
            "Scalene triangle\n"
          ]
        }
      ]
    },
    {
      "cell_type": "code",
      "source": [
        "#Q13 Here's  a Python program that checks if a year is leap year and also if it is a century year:\n",
        "year = 2000\n",
        "\n",
        "if year % 400 == 0:\n",
        "    print(\"Leap year\")\n",
        "elif year % 100 == 0:\n",
        "    print(\"Century year\")\n",
        "elif year % 4 == 0:\n",
        "    print(\"Leap year\")\n",
        "else:\n",
        "    print(\"Not a leap year\")\n"
      ],
      "metadata": {
        "colab": {
          "base_uri": "https://localhost:8080/"
        },
        "id": "9Py_JDiJ_u_T",
        "outputId": "958e2684-d1a7-41b3-a0d6-1a215fea323e"
      },
      "execution_count": null,
      "outputs": [
        {
          "output_type": "stream",
          "name": "stdout",
          "text": [
            "Leap year\n"
          ]
        }
      ]
    },
    {
      "cell_type": "code",
      "source": [
        "#Q14 Here's a Python script that determines if a number is positive,negative, or  zero:\n",
        "num = -1\n",
        "\n",
        "if num > 0:\n",
        "    print(\"Positive number\")\n",
        "elif num == 0:\n",
        "    print(\"Zero\")\n",
        "else:\n",
        "    print(\"Negative number\")\n"
      ],
      "metadata": {
        "colab": {
          "base_uri": "https://localhost:8080/"
        },
        "id": "1N6qqVrMACpO",
        "outputId": "d91186f7-6636-4f56-eb9b-619138300200"
      },
      "execution_count": null,
      "outputs": [
        {
          "output_type": "stream",
          "name": "stdout",
          "text": [
            "Negative number\n"
          ]
        }
      ]
    },
    {
      "cell_type": "code",
      "source": [
        "#Q15 Here's a Python program that checks if a person is a teenager(betweeen 13 to 19 years old:)\n",
        "age = 15\n",
        "\n",
        "if age >= 13 and age <= 19:\n",
        "    print(\"Teenager\")\n",
        "else:\n",
        "    print(\"Not a teenager\")\n"
      ],
      "metadata": {
        "colab": {
          "base_uri": "https://localhost:8080/"
        },
        "id": "cY9so36QAUBD",
        "outputId": "6066dd67-60c2-4e94-de3b-e8074000d832"
      },
      "execution_count": null,
      "outputs": [
        {
          "output_type": "stream",
          "name": "stdout",
          "text": [
            "Teenager\n"
          ]
        }
      ]
    },
    {
      "cell_type": "code",
      "source": [
        "#Q16 Here's a Python program that determines the type of angle based on its measure(acute,obtuse,or right):\n",
        "angle = 90\n",
        "\n",
        "if angle < 90:\n",
        "    print(\"Acute angle\")\n",
        "elif angle == 90:\n",
        "    print(\"Right angle\")\n",
        "else:\n",
        "    print(\"Obtuse angle\")\n"
      ],
      "metadata": {
        "colab": {
          "base_uri": "https://localhost:8080/"
        },
        "id": "wNldGzIIAnDM",
        "outputId": "e81cc4d4-38a8-4691-b92c-d261414ad7ee"
      },
      "execution_count": null,
      "outputs": [
        {
          "output_type": "stream",
          "name": "stdout",
          "text": [
            "Right angle\n"
          ]
        }
      ]
    },
    {
      "cell_type": "code",
      "source": [
        "#Q17 Here's a Python program to calculate the roots of a quadratic equation:\n",
        "import cmath\n",
        "\n",
        "a = 1\n",
        "b = 5\n",
        "c = 6\n",
        "\n",
        "d = (b**2) - (4*a*c)\n",
        "\n",
        "root1 = (-b-cmath.sqrt(d))/(2*a)\n",
        "root2 = (-b+cmath.sqrt(d))/(2*a)\n",
        "\n",
        "print(\"The roots are {0} and {1}\".format(root1, root2))\n"
      ],
      "metadata": {
        "colab": {
          "base_uri": "https://localhost:8080/"
        },
        "id": "W1j8IJM8BGBp",
        "outputId": "eb7344cf-d9ed-4e8d-ee0d-9bc0e1705dfd"
      },
      "execution_count": null,
      "outputs": [
        {
          "output_type": "stream",
          "name": "stdout",
          "text": [
            "The roots are (-3+0j) and (-2+0j)\n"
          ]
        }
      ]
    },
    {
      "cell_type": "code",
      "source": [
        "#Q18 Here's a Python program that determines the day of the week based on a user - provided number (1 for Monday,2 for Tuesday,etc.):\n",
        "day = 3\n",
        "\n",
        "if day == 1:\n",
        "    print(\"Monday\")\n",
        "elif day == 2:\n",
        "    print(\"Tuesday\")\n",
        "elif day == 3:\n",
        "    print(\"Wednesday\")\n",
        "elif day == 4:\n",
        "    print(\"Thursday\")\n",
        "elif day == 5:\n",
        "    print(\"Friday\")\n",
        "elif day == 6:\n",
        "    print(\"Saturday\")\n",
        "else:\n",
        "    print(\"Sunday\")\n"
      ],
      "metadata": {
        "colab": {
          "base_uri": "https://localhost:8080/"
        },
        "id": "qNyFMhoeBacs",
        "outputId": "7a1174bc-e6ae-42b6-edae-6812938ae84d"
      },
      "execution_count": null,
      "outputs": [
        {
          "output_type": "stream",
          "name": "stdout",
          "text": [
            "Wednesday\n"
          ]
        }
      ]
    },
    {
      "cell_type": "code",
      "source": [
        "#Q19 Here's a Python program that determines if a year is a leap year and also if it is evenly divisible by 400:\n",
        "year = 2000\n",
        "\n",
        "if year % 400 == 0:\n",
        "    print(\"Leap year\")\n",
        "elif year % 100 == 0:\n",
        "    print(\"Century year\")\n",
        "elif year % 4 == 0:\n",
        "    print(\"Leap year\")\n",
        "else:\n",
        "    print(\"Not a leap year\")\n"
      ],
      "metadata": {
        "colab": {
          "base_uri": "https://localhost:8080/"
        },
        "id": "L1ZHsYFVB1sf",
        "outputId": "fab1792a-5153-49fb-8699-5ca677d425e4"
      },
      "execution_count": null,
      "outputs": [
        {
          "output_type": "stream",
          "name": "stdout",
          "text": [
            "Leap year\n"
          ]
        }
      ]
    },
    {
      "cell_type": "code",
      "source": [
        "#Q20 Here's a Python program that checks if a given number is prime or not using nested if -else statements:\n",
        "num = 29\n",
        "\n",
        "if num > 1:\n",
        "    for i in range(2, num):\n",
        "        if (num % i) == 0:\n",
        "            print(num, \"is not a prime number\")\n",
        "            break\n",
        "    else:\n",
        "        print(num, \"is a prime number\")\n",
        "else:\n",
        "    print(num, \"is not a prime number\")\n"
      ],
      "metadata": {
        "colab": {
          "base_uri": "https://localhost:8080/"
        },
        "id": "PG2wKhFOCVWs",
        "outputId": "fc13f5ed-78dc-4a7a-894c-747aedc450ec"
      },
      "execution_count": null,
      "outputs": [
        {
          "output_type": "stream",
          "name": "stdout",
          "text": [
            "29 is a prime number\n"
          ]
        }
      ]
    },
    {
      "cell_type": "code",
      "source": [],
      "metadata": {
        "id": "4a13p4SdCxcN"
      },
      "execution_count": null,
      "outputs": []
    },
    {
      "cell_type": "markdown",
      "source": [
        "Elif Statements:"
      ],
      "metadata": {
        "id": "_uwhcu39C3ag"
      }
    },
    {
      "cell_type": "code",
      "source": [
        "#Q21 Here's a Python program that assigns grades based on different ranges of scores using elif statement:\n",
        "score = 85\n",
        "\n",
        "if score >= 90:\n",
        "    grade = 'A'\n",
        "elif score >= 80:\n",
        "    grade = 'B'\n",
        "elif score >= 70:\n",
        "    grade = 'C'\n",
        "elif score >= 60:\n",
        "    grade = 'D'\n",
        "else:\n",
        "    grade = 'F'\n",
        "\n",
        "print(\"Your grade is\", grade)\n"
      ],
      "metadata": {
        "colab": {
          "base_uri": "https://localhost:8080/"
        },
        "id": "Iw5husl1C4tC",
        "outputId": "e85a774d-a2d0-4f5c-b4c6-a18f60daa710"
      },
      "execution_count": null,
      "outputs": [
        {
          "output_type": "stream",
          "name": "stdout",
          "text": [
            "Your grade is B\n"
          ]
        }
      ]
    },
    {
      "cell_type": "code",
      "source": [
        "#Q22 Here's a Python program that determines the type of a triangle based on its angles:\n",
        "a = 60\n",
        "b = 60\n",
        "c = 60\n",
        "\n",
        "if a + b + c == 180:\n",
        "    if a == b == c:\n",
        "        print(\"Equilateral triangle\")\n",
        "    elif a == b or b == c or c == a:\n",
        "        print(\"Isosceles triangle\")\n",
        "    else:\n",
        "        print(\"Scalene triangle\")\n",
        "else:\n",
        "    print(\"Not a triangle\")\n"
      ],
      "metadata": {
        "colab": {
          "base_uri": "https://localhost:8080/"
        },
        "id": "nVCzx6OlD4JL",
        "outputId": "a7ee5742-a3fa-47ea-c687-b64dcf8ac49e"
      },
      "execution_count": null,
      "outputs": [
        {
          "output_type": "stream",
          "name": "stdout",
          "text": [
            "Equilateral triangle\n"
          ]
        }
      ]
    },
    {
      "cell_type": "code",
      "source": [
        "#Q23 Here's Python program that categorizes a given person's BMI into underweight ,normal,overweight,or obese using elif statements:\n",
        "weight = 70\n",
        "height = 1.75\n",
        "\n",
        "bmi = weight / (height ** 2)\n",
        "\n",
        "if bmi < 18.5:\n",
        "    print(\"Underweight\")\n",
        "elif bmi < 25:\n",
        "    print(\"Normal\")\n",
        "elif bmi < 30:\n",
        "    print(\"Overweight\")\n",
        "else:\n",
        "    print(\"Obese\")\n"
      ],
      "metadata": {
        "colab": {
          "base_uri": "https://localhost:8080/"
        },
        "id": "KkE9ZnlkEQm5",
        "outputId": "ee900cf2-a525-4ce8-f39d-0da6bf86ab39"
      },
      "execution_count": null,
      "outputs": [
        {
          "output_type": "stream",
          "name": "stdout",
          "text": [
            "Normal\n"
          ]
        }
      ]
    },
    {
      "cell_type": "code",
      "source": [
        "#Q24 Here's a python program that determines whether a given number is positive,negative,zero using elif statements:\n",
        "num = -1\n",
        "\n",
        "if num > 0:\n",
        "    print(\"Positive number\")\n",
        "elif num == 0:\n",
        "    print(\"Zero\")\n",
        "else:\n",
        "    print(\"Negative number\")\n"
      ],
      "metadata": {
        "colab": {
          "base_uri": "https://localhost:8080/"
        },
        "id": "SnbEQpwoFIUY",
        "outputId": "d8590247-d74f-4d32-9e26-cf866637548b"
      },
      "execution_count": null,
      "outputs": [
        {
          "output_type": "stream",
          "name": "stdout",
          "text": [
            "Negative number\n"
          ]
        }
      ]
    },
    {
      "cell_type": "code",
      "source": [
        "#Q25 Here's a Python script that determines the type of a character(uppercase,lowercase,or special)\n",
        "char = 'A'\n",
        "\n",
        "if char >= 'A' and char <= 'Z':\n",
        "    print(\"Uppercase character\")\n",
        "elif char >= 'a' and char <= 'z':\n",
        "    print(\"Lowercase character\")\n",
        "else:\n",
        "    print(\"Special character\")\n"
      ],
      "metadata": {
        "colab": {
          "base_uri": "https://localhost:8080/"
        },
        "id": "eScSvnOcFpfU",
        "outputId": "4079148a-b29e-426e-bd5a-f23cbb013b78"
      },
      "execution_count": null,
      "outputs": [
        {
          "output_type": "stream",
          "name": "stdout",
          "text": [
            "Uppercase character\n"
          ]
        }
      ]
    },
    {
      "cell_type": "code",
      "source": [
        "#Q26 Here's a python program that calculates the discounted price based on different purchase amounts using elif statements :\n",
        "price = 100\n",
        "\n",
        "if price >= 1000:\n",
        "    discount = 0.1\n",
        "elif price >= 500:\n",
        "    discount = 0.05\n",
        "else:\n",
        "    discount = 0\n",
        "\n",
        "discounted_price = price - (price * discount)\n",
        "\n",
        "print(\"Discounted price is\", discounted_price)\n"
      ],
      "metadata": {
        "colab": {
          "base_uri": "https://localhost:8080/"
        },
        "id": "S-E5TUF4GDeX",
        "outputId": "eb8b4ffc-2da1-48c8-c643-d8a74848f63b"
      },
      "execution_count": null,
      "outputs": [
        {
          "output_type": "stream",
          "name": "stdout",
          "text": [
            "Discounted price is 100\n"
          ]
        }
      ]
    },
    {
      "cell_type": "code",
      "source": [
        "#Q27 Here's a Python program that calculates the electricity bill based on different cosumption slabs using elif statements :\n",
        "units = 300\n",
        "\n",
        "if units <= 100:\n",
        "    rate = 3\n",
        "elif units <= 200:\n",
        "    rate = 4\n",
        "elif units <= 300:\n",
        "    rate = 5\n",
        "else:\n",
        "    rate = 6\n",
        "\n",
        "bill = units * rate\n",
        "\n",
        "print(\"Electricity bill is\", bill)\n"
      ],
      "metadata": {
        "colab": {
          "base_uri": "https://localhost:8080/"
        },
        "id": "xGNaMAV1Gg3z",
        "outputId": "039f4f40-61fe-4717-8ecd-a7a336739235"
      },
      "execution_count": null,
      "outputs": [
        {
          "output_type": "stream",
          "name": "stdout",
          "text": [
            "Electricity bill is 1500\n"
          ]
        }
      ]
    },
    {
      "cell_type": "code",
      "source": [
        "#Q28 Here's a Python program that determines the type of quadrilateral based on its angles and sides using elif  statements:\n",
        "a = 5\n",
        "b = 5\n",
        "c = 5\n",
        "d = 5\n",
        "\n",
        "if a == b == c == d:\n",
        "    print(\"Square\")\n",
        "elif a == c and b == d:\n",
        "    print(\"Rectangle\")\n",
        "else:\n",
        "    print(\"Quadrilateral\")\n"
      ],
      "metadata": {
        "colab": {
          "base_uri": "https://localhost:8080/"
        },
        "id": "w27LXpNyG2Na",
        "outputId": "84493868-e94e-4dea-a0ea-30d4ace2431c"
      },
      "execution_count": null,
      "outputs": [
        {
          "output_type": "stream",
          "name": "stdout",
          "text": [
            "Square\n"
          ]
        }
      ]
    },
    {
      "cell_type": "code",
      "source": [
        "#Q29 Here's a Python script determines the season based on a user-provided month using elif statements:\n",
        "month = 12\n",
        "\n",
        "if month >= 3 and month <= 5:\n",
        "    print(\"Spring\")\n",
        "elif month >= 6 and month <= 8:\n",
        "    print(\"Summer\")\n",
        "elif month >= 9 and month <= 11:\n",
        "    print(\"Autumn\")\n",
        "else:\n",
        "    print(\"Winter\")\n"
      ],
      "metadata": {
        "colab": {
          "base_uri": "https://localhost:8080/"
        },
        "id": "PQjYYq0THO_x",
        "outputId": "ceedb3a9-0891-402c-b677-d6c2733ae2d3"
      },
      "execution_count": null,
      "outputs": [
        {
          "output_type": "stream",
          "name": "stdout",
          "text": [
            "Winter\n"
          ]
        }
      ]
    },
    {
      "cell_type": "code",
      "source": [
        "#Q30 Here's a Python program that determines the type of a year (leap or common) and month (30 or 31 days) using elif statements:\n",
        "year = 2024\n",
        "month = 2\n",
        "\n",
        "if year % 400 == 0:\n",
        "    leap = True\n",
        "elif year % 100 == 0:\n",
        "    leap = False\n",
        "elif year % 4 == 0:\n",
        "    leap = True\n",
        "else:\n",
        "    leap = False\n",
        "\n",
        "if month in [4, 6, 9, 11]:\n",
        "    days = 30\n",
        "elif month == 2:\n",
        "    if leap:\n",
        "        days = 29\n",
        "    else:\n",
        "        days = 28\n",
        "else:\n",
        "    days = 31\n",
        "\n",
        "print(\"Month has\", days, \"days\")\n"
      ],
      "metadata": {
        "colab": {
          "base_uri": "https://localhost:8080/"
        },
        "id": "WUtOvVOcHjst",
        "outputId": "90f26d5e-5906-4afa-e84f-c8f3daaaa8b2"
      },
      "execution_count": null,
      "outputs": [
        {
          "output_type": "stream",
          "name": "stdout",
          "text": [
            "Month has 29 days\n"
          ]
        }
      ]
    },
    {
      "cell_type": "markdown",
      "source": [
        "Basics Level:\n"
      ],
      "metadata": {
        "id": "MA1CrMayJY4s"
      }
    },
    {
      "cell_type": "code",
      "source": [
        "#Q1 Here's Python program that checks if a given number is positive,negative,or zero:\n",
        "num = -1\n",
        "\n",
        "if num > 0:\n",
        "    print(\"Positive number\")\n",
        "elif num == 0:\n",
        "    print(\"Zero\")\n",
        "else:\n",
        "    print(\"Negative number\")\n"
      ],
      "metadata": {
        "colab": {
          "base_uri": "https://localhost:8080/"
        },
        "id": "BqZSvx9PH9s3",
        "outputId": "48af8f20-2baf-4a60-a329-d2c205010e8f"
      },
      "execution_count": null,
      "outputs": [
        {
          "output_type": "stream",
          "name": "stdout",
          "text": [
            "Negative number\n"
          ]
        }
      ]
    },
    {
      "cell_type": "code",
      "source": [
        "#Q2 Here's a Python program that determines if a person is eligible to vote based on their age:\n",
        "age = 18\n",
        "\n",
        "if age >= 18:\n",
        "    print(\"You are eligible to vote\")\n",
        "else:\n",
        "    print(\"You are not eligible to vote\")\n"
      ],
      "metadata": {
        "colab": {
          "base_uri": "https://localhost:8080/"
        },
        "id": "FpJGjrGaTEvH",
        "outputId": "514b5874-e93e-409c-ea97-81e642515273"
      },
      "execution_count": null,
      "outputs": [
        {
          "output_type": "stream",
          "name": "stdout",
          "text": [
            "You are eligible to vote\n"
          ]
        }
      ]
    },
    {
      "cell_type": "code",
      "source": [
        "#Q3 Here's a Python program that find the maximum of two given numbers using condition statements,youncan use the following code:\n",
        "a = float(input(\"Enter the first number: \"))\n",
        "b = float(input(\"Enter the second number: \"))\n",
        "if a > b:\n",
        "    print(a, \"is greater than\", b)\n",
        "elif b > a:\n",
        "    print(b, \"is greater than\", a)\n",
        "else:\n",
        "    print(\"Both numbers are equal.\")\n"
      ],
      "metadata": {
        "id": "EblxcjwnTaI9",
        "colab": {
          "base_uri": "https://localhost:8080/"
        },
        "outputId": "09e1050c-83d0-4244-cdfd-eb81e45c34e0"
      },
      "execution_count": null,
      "outputs": [
        {
          "output_type": "stream",
          "name": "stdout",
          "text": [
            "Enter the first number: 12\n",
            "Enter the second number: 134\n",
            "134.0 is greater than 12.0\n"
          ]
        }
      ]
    },
    {
      "cell_type": "code",
      "source": [
        "#Q4 To calculate the grade of a student based on their exam score, we can use the following code:\n",
        "score = float(input(\"Enter your exam score: \"))\n",
        "if score >= 90:\n",
        "    print(\"Your grade is A\")\n",
        "elif score >= 80:\n",
        "    print(\"Your grade is B\")\n",
        "elif score >= 70:\n",
        "    print(\"Your grade is C\")\n",
        "elif score >= 60:\n",
        "    print(\"Your grade is D\")\n",
        "else:\n",
        "    print(\"Your grade is F\")\n"
      ],
      "metadata": {
        "colab": {
          "base_uri": "https://localhost:8080/"
        },
        "id": "pVZ1zlNbGvpa",
        "outputId": "0ca67418-c683-49ae-a73a-318bb11e8e00"
      },
      "execution_count": null,
      "outputs": [
        {
          "output_type": "stream",
          "name": "stdout",
          "text": [
            "Enter your exam score: 827498\n",
            "Your grade is A\n"
          ]
        }
      ]
    },
    {
      "cell_type": "code",
      "source": [
        "#Q5 To check if a year is a leap year or not,we can use the following code:\n",
        "year = int(input(\"Enter a year: \"))\n",
        "if year % 4 == 0:\n",
        "    if year % 100 == 0:\n",
        "        if year % 400 == 0:\n",
        "            print(year, \"is a leap year\")\n",
        "        else:\n",
        "            print(year, \"is not a leap year\")\n",
        "    else:\n",
        "        print(year, \"is a leap year\")\n",
        "else:\n",
        "    print(year, \"is not a leap year\")\n"
      ],
      "metadata": {
        "colab": {
          "base_uri": "https://localhost:8080/"
        },
        "id": "OY8EAX6wHZUT",
        "outputId": "a4c3d6ac-5ade-4dc4-f871-6e89bf2ced68"
      },
      "execution_count": null,
      "outputs": [
        {
          "output_type": "stream",
          "name": "stdout",
          "text": [
            "Enter a year: 323\n",
            "323 is not a leap year\n"
          ]
        }
      ]
    },
    {
      "cell_type": "code",
      "source": [
        "#Q6 To classify a triangle based on it ssides'lengths,we can use the following code:\n",
        "a = float(input(\"Enter the length of side a: \"))\n",
        "b = float(input(\"Enter the length of side b: \"))\n",
        "c = float(input(\"Enter the length of side c: \"))\n",
        "if a == b == c:\n",
        "    print(\"This is an equilateral triangle.\")\n",
        "elif a == b or b == c or a == c:\n",
        "    print(\"This is an isosceles triangle.\")\n",
        "else:\n",
        "    print(\"This is a scalene triangle.\")\n"
      ],
      "metadata": {
        "colab": {
          "base_uri": "https://localhost:8080/"
        },
        "id": "uaOUEpioH42u",
        "outputId": "60dbad1b-e406-4462-c48c-dc2d8bc00938"
      },
      "execution_count": null,
      "outputs": [
        {
          "output_type": "stream",
          "name": "stdout",
          "text": [
            "Enter the length of side a: 223\n",
            "Enter the length of side b: 2222\n",
            "Enter the length of side c: 22223\n",
            "This is a scalene triangle.\n"
          ]
        }
      ]
    },
    {
      "cell_type": "code",
      "source": [
        "#Q7 To determine the largest of three given numbers,we can use the following code:\n",
        "a = float(input(\"Enter the first number: \"))\n",
        "b = float(input(\"Enter the second number: \"))\n",
        "c = float(input(\"Enter the third number: \"))\n",
        "if a > b and a > c:\n",
        "    print(a, \"is the largest number.\")\n",
        "elif b > a and b > c:\n",
        "    print(b, \"is the largest number.\")\n",
        "else:\n",
        "    print(c, \"is the largest number.\")\n",
        "\n"
      ],
      "metadata": {
        "colab": {
          "base_uri": "https://localhost:8080/"
        },
        "id": "-3s8Q0YkIS17",
        "outputId": "440c9ab2-fbd9-483c-ae8f-1bd0a039b4e8"
      },
      "execution_count": null,
      "outputs": [
        {
          "output_type": "stream",
          "name": "stdout",
          "text": [
            "Enter the first number: 23\n",
            "Enter the second number: 222\n",
            "Enter the third number: 3367\n",
            "3367.0 is the largest number.\n"
          ]
        }
      ]
    },
    {
      "cell_type": "code",
      "source": [
        "#Q8 To check whether a character is a vowel or a consonant,we ccan us ethe following code:\n",
        "char = input(\"Enter a character: \")\n",
        "if char in ['a', 'e', 'i', 'o', 'u']:\n",
        "    print(char, \"is a vowel.\")\n",
        "else:\n",
        "    print(char, \"is a consonant.\")\n",
        "\n"
      ],
      "metadata": {
        "colab": {
          "base_uri": "https://localhost:8080/"
        },
        "id": "0pYFoHR-IrSZ",
        "outputId": "cda109e0-1e8b-4f14-e6be-94369e9b922a"
      },
      "execution_count": null,
      "outputs": [
        {
          "output_type": "stream",
          "name": "stdout",
          "text": [
            "Enter a character: rahul\n",
            "rahul is a consonant.\n"
          ]
        }
      ]
    },
    {
      "cell_type": "code",
      "source": [
        "#Q9 To calculate the total cost of a shopping cart based on discounts,we can use the following code:\n",
        "price = float(input(\"Enter the price of the item: \"))\n",
        "quantity = int(input(\"Enter the quantity of the item: \"))\n",
        "total = price * quantity\n",
        "if total >= 100:\n",
        "    discount = total * 0.1\n",
        "else:\n",
        "    discount = 0\n",
        "final_total = total - discount\n",
        "print(\"The total cost of your shopping cart is $\", final_total)\n",
        "\n"
      ],
      "metadata": {
        "colab": {
          "base_uri": "https://localhost:8080/"
        },
        "id": "RmJiRaNfJCSr",
        "outputId": "1aecc4e5-e41c-49f4-e894-482ec5acc4a2"
      },
      "execution_count": null,
      "outputs": [
        {
          "output_type": "stream",
          "name": "stdout",
          "text": [
            "Enter the price of the item: 666\n",
            "Enter the quantity of the item: 20\n",
            "The total cost of your shopping cart is $ 11988.0\n"
          ]
        }
      ]
    },
    {
      "cell_type": "code",
      "source": [
        "#Q10 To check if a given number is even or odd , we can use the following code:\n",
        "num = int(input(\"Enter a number: \"))\n",
        "if num % 2 == 0:\n",
        "    print(num, \"is even.\")\n",
        "else:\n",
        "    print(num, \"is odd.\")\n"
      ],
      "metadata": {
        "colab": {
          "base_uri": "https://localhost:8080/"
        },
        "id": "VSGYao6JJVSO",
        "outputId": "9488ecbe-f826-4663-a96c-fe9ad12ce072"
      },
      "execution_count": null,
      "outputs": [
        {
          "output_type": "stream",
          "name": "stdout",
          "text": [
            "Enter a number: 12\n",
            "12 is even.\n"
          ]
        }
      ]
    },
    {
      "cell_type": "markdown",
      "source": [
        "Intermediate level:\n"
      ],
      "metadata": {
        "id": "md4AFiruJ8Km"
      }
    },
    {
      "cell_type": "code",
      "source": [
        "#Q11 To calculate the roots of a quadratic equation,we can us ethe following code:\n",
        "import cmath\n",
        "\n",
        "a = float(input(\"Enter the coefficient a: \"))\n",
        "b = float(input(\"Enter the coefficient b: \"))\n",
        "c = float(input(\"Enter the coefficient c: \"))\n",
        "\n",
        "# calculate the discriminant\n",
        "d = (b**2) - (4*a*c)\n",
        "\n",
        "# find two solutions\n",
        "sol1 = (-b - cmath.sqrt(d)) / (2*a)\n",
        "sol2 = (-b + cmath.sqrt(d)) / (2*a)\n",
        "\n",
        "print(\"The solutions are {0} and {1}\".format(sol1, sol2))\n"
      ],
      "metadata": {
        "colab": {
          "base_uri": "https://localhost:8080/"
        },
        "id": "x3EexrfnJvaE",
        "outputId": "3adcceb7-860c-47cf-c8c3-62dc5bcbc94a"
      },
      "execution_count": null,
      "outputs": [
        {
          "output_type": "stream",
          "name": "stdout",
          "text": [
            "Enter the coefficient a: 12\n",
            "Enter the coefficient b: 22\n",
            "Enter the coefficient c: 2222\n",
            "The solutions are (-0.9166666666666666-13.576685489797901j) and (-0.9166666666666666+13.576685489797901j)\n"
          ]
        }
      ]
    },
    {
      "cell_type": "code",
      "source": [
        "#Q12 To determine the day of the week based on the day number(1-7),we can use the following code:\n",
        "day_num = int(input(\"Enter the day number (1-7): \"))\n",
        "\n",
        "if day_num == 1:\n",
        "    print(\"Monday\")\n",
        "elif day_num == 2:\n",
        "    print(\"Tuesday\")\n",
        "elif day_num == 3:\n",
        "    print(\"Wednesday\")\n",
        "elif day_num == 4:\n",
        "    print(\"Thursday\")\n",
        "elif day_num == 5:\n",
        "    print(\"Friday\")\n",
        "elif day_num == 6:\n",
        "    print(\"Saturday\")\n",
        "elif day_num == 7:\n",
        "    print(\"Sunday\")\n",
        "else:\n",
        "    print(\"Invalid input\")\n"
      ],
      "metadata": {
        "colab": {
          "base_uri": "https://localhost:8080/"
        },
        "id": "POU9nJ2aK27C",
        "outputId": "0a59d33e-f48c-46c8-f963-372d3f05b5a9"
      },
      "execution_count": null,
      "outputs": [
        {
          "output_type": "stream",
          "name": "stdout",
          "text": [
            "Enter the day number (1-7): 1\n",
            "Monday\n"
          ]
        }
      ]
    },
    {
      "cell_type": "code",
      "source": [
        "#Q13 To calculate the factorial of a given number using recursion,we can use the following code:\n",
        "def factorial(n):\n",
        "    if n == 1:\n",
        "        return 1\n",
        "    else:\n",
        "        return n * factorial(n-1)\n",
        "\n",
        "num = int(input(\"Enter a number: \"))\n",
        "print(\"The factorial of\", num, \"is\", factorial(num))\n"
      ],
      "metadata": {
        "colab": {
          "base_uri": "https://localhost:8080/"
        },
        "id": "04ZRky4wLJQ1",
        "outputId": "9450d3b6-116b-4198-c9d2-5bde800c0ffd"
      },
      "execution_count": null,
      "outputs": [
        {
          "output_type": "stream",
          "name": "stdout",
          "text": [
            "Enter a number: 2\n",
            "The factorial of 2 is 2\n"
          ]
        }
      ]
    },
    {
      "cell_type": "code",
      "source": [
        "#Q14 To find the largest among three numbers without using the max()function,we can use the followig code:\n",
        "a = float(input(\"Enter the first number: \"))\n",
        "b = float(input(\"Enter the second number: \"))\n",
        "c = float(input(\"Enter the third number: \"))\n",
        "\n",
        "if a > b:\n",
        "    if a > c:\n",
        "        print(a, \"is the largest number.\")\n",
        "    else:\n",
        "        print(c, \"is the largest number.\")\n",
        "else:\n",
        "    if b > c:\n",
        "        print(b, \"is the largest number.\")\n",
        "    else:\n",
        "        print(c, \"is the largest number.\")\n"
      ],
      "metadata": {
        "colab": {
          "base_uri": "https://localhost:8080/"
        },
        "id": "mQzi6uwmLdl8",
        "outputId": "7cefbc57-94e5-47ed-fb7f-bfb02de19e1e"
      },
      "execution_count": null,
      "outputs": [
        {
          "output_type": "stream",
          "name": "stdout",
          "text": [
            "Enter the first number: 1222\n",
            "Enter the second number: 2121\n",
            "Enter the third number: 22222\n",
            "22222.0 is the largest number.\n"
          ]
        }
      ]
    },
    {
      "cell_type": "code",
      "source": [
        "#Q15  To simulate a bsic ATM transaction menu,we can use the following code:\n",
        "balance = 1000\n",
        "\n",
        "while True:\n",
        "    print(\"1. Check balance\")\n",
        "    print(\"2. Withdraw money\")\n",
        "    print(\"3. Deposit money\")\n",
        "    print(\"4. Quit\")\n",
        "\n",
        "    choice = int(input(\"Enter your choice: \"))\n",
        "\n",
        "    if choice == 1:\n",
        "        print(\"Your balance is\", balance)\n",
        "    elif choice == 2:\n",
        "        amount = float(input(\"Enter the amount to withdraw: \"))\n",
        "        if amount > balance:\n",
        "            print(\"Insufficient funds\")\n",
        "        else:\n",
        "            balance -= amount\n",
        "            print(\"Your new balance is\", balance)\n",
        "    elif choice == 3:\n",
        "        amount = float(input(\"Enter the amount to deposit: \"))\n",
        "        balance += amount\n",
        "        print(\"Your new balance is\", balance)\n",
        "    elif choice == 4:\n",
        "        break\n",
        "    else:\n",
        "        print(\"Invalid choice\")\n"
      ],
      "metadata": {
        "colab": {
          "base_uri": "https://localhost:8080/"
        },
        "id": "Mn5D7hCYLv1y",
        "outputId": "57f9542c-8551-46a6-89af-db46a53e78b5"
      },
      "execution_count": null,
      "outputs": [
        {
          "name": "stdout",
          "output_type": "stream",
          "text": [
            "1. Check balance\n",
            "2. Withdraw money\n",
            "3. Deposit money\n",
            "4. Quit\n",
            "Enter your choice: 222\n",
            "Invalid choice\n",
            "1. Check balance\n",
            "2. Withdraw money\n",
            "3. Deposit money\n",
            "4. Quit\n",
            "Enter your choice: 2\n",
            "Enter the amount to withdraw: 5000\n",
            "Insufficient funds\n",
            "1. Check balance\n",
            "2. Withdraw money\n",
            "3. Deposit money\n",
            "4. Quit\n",
            "Enter your choice: 2\n",
            "Enter the amount to withdraw: 233\n",
            "Your new balance is 767.0\n",
            "1. Check balance\n",
            "2. Withdraw money\n",
            "3. Deposit money\n",
            "4. Quit\n",
            "Enter your choice: 4\n"
          ]
        }
      ]
    },
    {
      "cell_type": "code",
      "source": [
        "#Q16 To check if a given string is a palindrome or not,we can use the following code:\n",
        "def is_palindrome(s):\n",
        "    return s == s[::-1]\n",
        "\n",
        "string = input(\"Enter a string: \")\n",
        "\n",
        "if is_palindrome(string):\n",
        "    print(string, \"is a palindrome\")\n",
        "else:\n",
        "    print(string, \"is not a palindrome\")\n"
      ],
      "metadata": {
        "colab": {
          "base_uri": "https://localhost:8080/"
        },
        "id": "ajpWR7dEMIy7",
        "outputId": "cc98e2b3-56d7-474d-d686-9213647a1dab"
      },
      "execution_count": null,
      "outputs": [
        {
          "output_type": "stream",
          "name": "stdout",
          "text": [
            "Enter a string: rahul\n",
            "rahul is not a palindrome\n"
          ]
        }
      ]
    },
    {
      "cell_type": "code",
      "source": [
        "#Q17 To calculate the average of a list of numbers,excluding the smallest and largest values,we can use the following code:\n",
        "def average(numbers):\n",
        "    numbers.remove(max(numbers))\n",
        "    numbers.remove(min(numbers))\n",
        "    return sum(numbers) / len(numbers)\n",
        "\n",
        "num_list = [1, 2, 3, 4, 5]\n",
        "print(\"The average is\", average(num_list))\n"
      ],
      "metadata": {
        "colab": {
          "base_uri": "https://localhost:8080/"
        },
        "id": "zN9Gp--vNFfb",
        "outputId": "f406be2b-7ae3-4fb0-f397-da87e077f585"
      },
      "execution_count": null,
      "outputs": [
        {
          "output_type": "stream",
          "name": "stdout",
          "text": [
            "The average is 3.0\n"
          ]
        }
      ]
    },
    {
      "cell_type": "code",
      "source": [
        "#Q18 To convert a given temperature from celsius to fahrenheit ,we can use the following code:\n",
        "celsius = float(input(\"Enter the temperature in Celsius: \"))\n",
        "fahrenheit = (celsius * 1.8) + 32\n",
        "print(celsius, \"degrees Celsius is equal to\", fahrenheit, \"degrees Fahrenheit\")\n"
      ],
      "metadata": {
        "colab": {
          "base_uri": "https://localhost:8080/"
        },
        "id": "Yqx3xYS7Nc53",
        "outputId": "995de43c-3b14-4dfb-f727-3328c5618ffc"
      },
      "execution_count": null,
      "outputs": [
        {
          "output_type": "stream",
          "name": "stdout",
          "text": [
            "Enter the temperature in Celsius: 122\n",
            "122.0 degrees Celsius is equal to 251.6 degrees Fahrenheit\n"
          ]
        }
      ]
    },
    {
      "cell_type": "code",
      "source": [
        "#Q19 To simulate a basic calculator for addition,subtraction,multiplication,and division,we can use the following code:\n",
        "def add(a, b):\n",
        "    return a + b\n",
        "\n",
        "def subtract(a, b):\n",
        "    return a - b\n",
        "\n",
        "def multiply(a, b):\n",
        "    return a * b\n",
        "\n",
        "def divide(a, b):\n",
        "    return a / b\n",
        "\n",
        "print(\"1. Add\")\n",
        "print(\"2. Subtract\")\n",
        "print(\"3. Multiply\")\n",
        "print(\"4. Divide\")\n",
        "\n",
        "choice = int(input(\"Enter your choice: \"))\n",
        "\n",
        "num1 = float(input(\"Enter the first number: \"))\n",
        "num2 = float(input(\"Enter the second number: \"))\n",
        "\n",
        "if choice == 1:\n",
        "    print(num1, \"+\", num2, \"=\", add(num1, num2))\n",
        "elif choice == 2:\n",
        "    print(num1, \"-\", num2, \"=\", subtract(num1, num2))\n",
        "elif choice == 3:\n",
        "    print(num1, \"*\", num2, \"=\", multiply(num1, num2))\n",
        "elif choice == 4:\n",
        "    print(num1, \"/\", num2, \"=\", divide(num1, num2))\n",
        "else:\n",
        "    print(\"Invalid input\")\n",
        "\n"
      ],
      "metadata": {
        "colab": {
          "base_uri": "https://localhost:8080/"
        },
        "id": "kFJdTCDRN2nu",
        "outputId": "91a1406c-d929-47fb-be1a-5167ea37e85e"
      },
      "execution_count": null,
      "outputs": [
        {
          "output_type": "stream",
          "name": "stdout",
          "text": [
            "1. Add\n",
            "2. Subtract\n",
            "3. Multiply\n",
            "4. Divide\n",
            "Enter your choice: 1\n",
            "Enter the first number: 847\n",
            "Enter the second number: 939\n",
            "847.0 + 939.0 = 1786.0\n"
          ]
        }
      ]
    },
    {
      "cell_type": "code",
      "source": [
        "#Q20 Here is a python program that uses the Cardano formula to determine the roots of a cubic equation:\n",
        "import cmath\n",
        "\n",
        "def solve_cubic(a, b, c, d):\n",
        "    Q = (3*a*c - b**2) / (9*a**2)\n",
        "    R = (9*a*b*c - 27*a**2*d - 2*b**3) / (54*a**3)\n",
        "    D = Q**3 + R**2\n",
        "    S = cmath.exp(cmath.pi * 1j / 3)\n",
        "    T = cmath.exp(-cmath.pi * 1j / 3)\n",
        "    x1 = (-b / (3*a)) + 2*cmath.sqrt(-Q) * cmath.cos(cmath.atan2(cmath.sqrt(abs(D)), R) / 3)\n",
        "    x2 = (-b / (3*a)) + 2*cmath.sqrt(-Q) * S * cmath.cos(cmath.atan2(cmath.sqrt(abs(D)), R) / 3)\n",
        "    x3 = (-b / (3*a)) + 2*cmath.sqrt(-Q) * T * cmath.cos(cmath.atan2(cmath.sqrt(abs(D)), R) / 3)\n",
        "    return x1, x2, x3\n",
        "\n",
        "a = float(input(\"Enter the coefficient of x^3: \"))\n",
        "b = float(input(\"Enter the coefficient of x^2: \"))\n",
        "c = float(input(\"Enter the coefficient of x: \"))\n",
        "d = float(input(\"Enter the constant term: \"))\n",
        "\n",
        "x1, x2, x3 = solve_cubic(a, b, c, d)\n",
        "\n",
        "print(\"The roots of the cubic equation are:\")\n",
        "print(\"x1 =\", x1)\n",
        "print(\"x2 =\", x2)\n",
        "print(\"x3 =\", x3)\n"
      ],
      "metadata": {
        "id": "hEBgYNupOPvI"
      },
      "execution_count": null,
      "outputs": []
    },
    {
      "cell_type": "markdown",
      "source": [
        "Advanced level:\n"
      ],
      "metadata": {
        "id": "CDAqC3txSOo_"
      }
    },
    {
      "cell_type": "code",
      "source": [
        "#Q21 To calculate the income tax based on the user's income and tax brackets,we can use the following code:\n",
        "income = float(input(\"Enter your annual income: \"))\n",
        "\n",
        "if income <= 250000:\n",
        "    tax = 0\n",
        "elif income <= 500000:\n",
        "    tax = (income - 250000) * 0.05\n",
        "elif income <= 750000:\n",
        "    tax = 12500 + (income - 500000) * 0.1\n",
        "elif income <= 1000000:\n",
        "    tax = 37500 + (income - 750000) * 0.15\n",
        "elif income <= 1250000:\n",
        "    tax = 75000 + (income - 1000000) * 0.2\n",
        "elif income <= 1500000:\n",
        "    tax = 125000 + (income - 1250000) * 0.25\n",
        "else:\n",
        "    tax = 187500 + (income - 1500000) * 0.3\n",
        "\n",
        "print(\"Your income tax is: ₹{:.2f}\".format(tax))\n"
      ],
      "metadata": {
        "colab": {
          "base_uri": "https://localhost:8080/"
        },
        "id": "8ORTpscqP3lS",
        "outputId": "5992abc8-03ed-4fb4-8b47-37389f123437"
      },
      "execution_count": null,
      "outputs": [
        {
          "output_type": "stream",
          "name": "stdout",
          "text": [
            "Enter your annual income: 10000\n",
            "Your income tax is: ₹0.00\n"
          ]
        }
      ]
    },
    {
      "cell_type": "code",
      "source": [
        "#Q22 To simulate a rock-paper-scissors game against the computer,you can use the following code:\n",
        "import random\n",
        "\n",
        "print(\"Welcome to Rock-Paper-Scissors!\")\n",
        "print(\"Enter your choice (rock, paper, or scissors):\")\n",
        "\n",
        "user_choice = input().lower()\n",
        "computer_choice = random.choice(['rock', 'paper', 'scissors'])\n",
        "\n",
        "print(\"You chose\", user_choice)\n",
        "print(\"The computer chose\", computer_choice)\n",
        "\n",
        "if user_choice == computer_choice:\n",
        "    print(\"It's a tie!\")\n",
        "elif user_choice == 'rock':\n",
        "    if computer_choice == 'paper':\n",
        "        print(\"You lose!\")\n",
        "    else:\n",
        "        print(\"You win!\")\n",
        "elif user_choice == 'paper':\n",
        "    if computer_choice == 'scissors':\n",
        "        print(\"You lose!\")\n",
        "    else:\n",
        "        print(\"You win!\")\n",
        "elif user_choice == 'scissors':\n",
        "    if computer_choice == 'rock':\n",
        "        print(\"You lose!\")\n",
        "    else:\n",
        "        print(\"You win!\")\n",
        "else:\n",
        "    print(\"Invalid input! You have not entered rock, paper or scissors, try again.\")\n"
      ],
      "metadata": {
        "colab": {
          "base_uri": "https://localhost:8080/"
        },
        "id": "GjEArY-qSuP9",
        "outputId": "bbd9f57a-47c6-4432-ad43-54f1103b1e6d"
      },
      "execution_count": null,
      "outputs": [
        {
          "output_type": "stream",
          "name": "stdout",
          "text": [
            "Welcome to Rock-Paper-Scissors!\n",
            "Enter your choice (rock, paper, or scissors):\n",
            "rock\n",
            "You chose rock\n",
            "The computer chose paper\n",
            "You lose!\n"
          ]
        }
      ]
    },
    {
      "cell_type": "code",
      "source": [
        "#Q23 To generate a random password based on user preferences(length,comlexity),we can use the following code:\n",
        "import random\n",
        "import string\n",
        "\n",
        "def generate_password(length, complexity):\n",
        "    if complexity == 'low':\n",
        "        chars = string.ascii_lowercase\n",
        "    elif complexity == 'medium':\n",
        "        chars = string.ascii_letters + string.digits\n",
        "    elif complexity == 'high':\n",
        "        chars = string.ascii_letters + string.digits + string.punctuation\n",
        "    else:\n",
        "        print(\"Invalid complexity level!\")\n",
        "        return\n",
        "\n",
        "    password = ''.join(random.choice(chars) for _ in range(length))\n",
        "    return password\n",
        "\n",
        "length = int(input(\"Enter the length of the password: \"))\n",
        "complexity = input(\"Enter the complexity level (low, medium, high): \")\n",
        "\n",
        "password = generate_password(length, complexity)\n",
        "\n",
        "if password:\n",
        "    print(\"Your password is:\", password)\n"
      ],
      "metadata": {
        "colab": {
          "base_uri": "https://localhost:8080/"
        },
        "id": "PB9D7fUlUDF8",
        "outputId": "96bd91b9-f405-4dbf-cd3d-c7a84b67c4a9"
      },
      "execution_count": null,
      "outputs": [
        {
          "output_type": "stream",
          "name": "stdout",
          "text": [
            "Enter the length of the password: 12\n",
            "Enter the complexity level (low, medium, high): medium\n",
            "Your password is: w1YMTEE8xbNw\n"
          ]
        }
      ]
    },
    {
      "cell_type": "code",
      "source": [
        "#Q24 TO implement a simple text-based adventure game with branching scenarios,we can use the following code:\n",
        "def intro():\n",
        "    print(\"You are in a dark room.\")\n",
        "    print(\"There are two doors, one on your left and one on your right.\")\n",
        "    print(\"Which one do you choose? (left or right)\")\n",
        "\n",
        "    choice = input().lower()\n",
        "\n",
        "    if choice == 'left':\n",
        "        bear_room()\n",
        "    elif choice == 'right':\n",
        "        monster_room()\n",
        "    else:\n",
        "        print(\"Invalid input!\")\n",
        "        intro()\n",
        "\n",
        "def bear_room():\n",
        "    print(\"There is a bear here.\")\n",
        "    print(\"Behind the bear is another door.\")\n",
        "    print(\"The bear is eating tasty honey!\")\n",
        "    print(\"What would you do? (1 or 2)\")\n",
        "    print(\"1) Take the honey.\")\n",
        "    print(\"2) Taunt the bear.\")\n",
        "\n",
        "    choice = input()\n",
        "\n",
        "    if choice == '1':\n",
        "        print(\"The bear killed you. Game over!\")\n",
        "    elif choice == '2':\n",
        "        print(\"The bear moved from the door. You can go through it now.\")\n",
        "        diamond_room()\n",
        "    else:\n",
        "        print(\"Invalid input!\")\n",
        "        bear_room()\n",
        "\n",
        "def monster_room():\n",
        "    print(\"There is a monster here.\")\n",
        "    print(\"Behind the monster is another door.\")\n",
        "    print(\"The monster is sleeping.\")\n",
        "    print(\"What would you do? (1 or 2)\")\n",
        "    print(\"1) Go through the door quietly.\")\n",
        "    print(\"2) Kill the monster and show your courage.\")\n",
        "\n",
        "    choice = input()\n",
        "\n",
        "    if choice == '1':\n",
        "        diamond_room()\n",
        "    elif choice == '2':\n",
        "        print(\"The monster killed you. Game over!\")\n",
        "    else:\n",
        "        print(\"Invalid input!\")\n",
        "        monster_room()\n",
        "\n",
        "def diamond_room():\n",
        "    print(\"You are now in a room filled with diamonds!\")\n",
        "    print(\"And there is a door too!\")\n",
        "    print(\"What would you do? (1 or 2)\")\n",
        "    print(\"1) Take some diamonds and go through the door.\")\n",
        "    print(\"2) Just go through the door.\")\n",
        "\n",
        "    choice = input()\n",
        "\n",
        "    if choice == '1':\n",
        "        print(\"Congratulations! You win!\")\n",
        "    elif choice == '2':\n",
        "        print(\"Sorry, you lost. Game over!\")\n",
        "    else:\n",
        "        print(\"Invalid input!\")\n",
        "        diamond_room()\n",
        "\n",
        "intro()\n"
      ],
      "metadata": {
        "colab": {
          "base_uri": "https://localhost:8080/"
        },
        "id": "PFin1jYRVLNh",
        "outputId": "018179fc-fa69-4569-fb06-38323adc51f3"
      },
      "execution_count": null,
      "outputs": [
        {
          "output_type": "stream",
          "name": "stdout",
          "text": [
            "You are in a dark room.\n",
            "There are two doors, one on your left and one on your right.\n",
            "Which one do you choose? (left or right)\n",
            "left\n",
            "There is a bear here.\n",
            "Behind the bear is another door.\n",
            "The bear is eating tasty honey!\n",
            "What would you do? (1 or 2)\n",
            "1) Take the honey.\n",
            "2) Taunt the bear.\n",
            "1\n",
            "The bear killed you. Game over!\n"
          ]
        }
      ]
    },
    {
      "cell_type": "code",
      "source": [
        "#Q25 To solve a linear equation for x, considering different cases, we can use the following code:\n",
        "a = float(input(\"Enter the coefficient of x: \"))\n",
        "b = float(input(\"Enter the constant term: \"))\n",
        "\n",
        "if a == 0 and b == 0:\n",
        "    print(\"The equation has infinite solutions.\")\n",
        "elif a == 0 and b != 0:\n",
        "    print(\"The equation has no solution.\")\n",
        "else:\n",
        "    x = -b / a\n",
        "    print(\"The solution of the equation is x = {:.2f}\".format(x))\n"
      ],
      "metadata": {
        "colab": {
          "base_uri": "https://localhost:8080/"
        },
        "id": "S5DOblTOY0YH",
        "outputId": "e66fa000-9519-4c1c-df47-29c965343f10"
      },
      "execution_count": null,
      "outputs": [
        {
          "output_type": "stream",
          "name": "stdout",
          "text": [
            "Enter the coefficient of x: 1\n",
            "Enter the constant term: 1\n",
            "The solution of the equation is x = -1.00\n"
          ]
        }
      ]
    },
    {
      "cell_type": "code",
      "source": [
        "#Q26 To simulate a basic quiz game with multiple-choice questions scoring ,we can use  the following code:\n",
        "score = 0\n",
        "\n",
        "print(\"Welcome to the quiz game!\")\n",
        "print(\"Answer the following questions:\")\n",
        "\n",
        "question1 = input(\"What is the capital of France?\\n(a) Paris\\n(b) London\\n(c) Berlin\\n\")\n",
        "if question1.lower() == \"a\":\n",
        "    score += 1\n",
        "\n",
        "question2 = input(\"What is the largest planet in our solar system?\\n(a) Earth\\n(b) Jupiter\\n(c) Mars\\n\")\n",
        "if question2.lower() == \"b\":\n",
        "    score += 1\n",
        "\n",
        "question3 = input(\"What is the currency of Japan?\\n(a) Yen\\n(b) Dollar\\n(c) Euro\\n\")\n",
        "if question3.lower() == \"a\":\n",
        "    score += 1\n",
        "\n",
        "print(\"Your score is:\", score)\n"
      ],
      "metadata": {
        "colab": {
          "base_uri": "https://localhost:8080/"
        },
        "id": "1UOw4eUDdraH",
        "outputId": "66624d75-4566-470f-8e22-915596f8b15e"
      },
      "execution_count": null,
      "outputs": [
        {
          "output_type": "stream",
          "name": "stdout",
          "text": [
            "Welcome to the quiz game!\n",
            "Answer the following questions:\n",
            "What is the capital of France?\n",
            "(a) Paris\n",
            "(b) London\n",
            "(c) Berlin\n",
            "berlin\n",
            "What is the largest planet in our solar system?\n",
            "(a) Earth\n",
            "(b) Jupiter\n",
            "(c) Mars\n",
            "jupiter\n",
            "What is the currency of Japan?\n",
            "(a) Yen\n",
            "(b) Dollar\n",
            "(c) Euro\n",
            "yen\n",
            "Your score is: 0\n"
          ]
        }
      ]
    },
    {
      "cell_type": "code",
      "source": [
        "#Q27 To determine whether a given year is a prime number or not we can use the following code:\n",
        "year = int(input(\"Enter a year: \"))\n",
        "\n",
        "if year > 1:\n",
        "    for i in range(2, year):\n",
        "        if year % i == 0:\n",
        "            print(year, \"is not a prime number.\")\n",
        "            break\n",
        "    else:\n",
        "        print(year, \"is a prime number.\")\n",
        "else:\n",
        "    print(year, \"is not a prime number.\")\n"
      ],
      "metadata": {
        "colab": {
          "base_uri": "https://localhost:8080/"
        },
        "id": "mHSvB-0XeB9a",
        "outputId": "f2dc2075-6a51-4b1a-93d2-a0969d25d7ad"
      },
      "execution_count": null,
      "outputs": [
        {
          "output_type": "stream",
          "name": "stdout",
          "text": [
            "Enter a year: 2022\n",
            "2022 is not a prime number.\n"
          ]
        }
      ]
    },
    {
      "cell_type": "code",
      "source": [
        "#Q28 To sort three numbers in ascending order using conditional statements ,we can use the following code:\n",
        "a = float(input(\"Enter a: \"))\n",
        "b = float(input(\"Enter b: \"))\n",
        "c = float(input(\"Enter c: \"))\n",
        "\n",
        "if a <= b and a <= c:\n",
        "    if b <= c:\n",
        "        print(a, \"<\", b, \"<\", c)\n",
        "    else:\n",
        "        print(a, \"<\", c, \"<\", b)\n",
        "elif b <= a and b <= c:\n",
        "    if a <= c:\n",
        "        print(b, \"<\", a, \"<\", c)\n",
        "    else:\n",
        "        print(b, \"<\", c, \"<\", a)\n",
        "else:\n",
        "    if a <= b:\n",
        "        print(c, \"<\", a, \"<\", b)\n",
        "    else:\n",
        "        print(c, \"<\", b, \"<\", a)\n"
      ],
      "metadata": {
        "colab": {
          "base_uri": "https://localhost:8080/"
        },
        "id": "IDBNk5LAe0u_",
        "outputId": "c88a9b1b-df5f-4aac-aa06-61f2a246ebbf"
      },
      "execution_count": null,
      "outputs": [
        {
          "output_type": "stream",
          "name": "stdout",
          "text": [
            "Enter a: 22\n",
            "Enter b: 2222\n",
            "Enter c: 2223\n",
            "22.0 < 2222.0 < 2223.0\n"
          ]
        }
      ]
    },
    {
      "cell_type": "code",
      "source": [
        "#Q29 To determine the roots of a quartic equation using numeriacl methods,we can use the following code;;\n",
        "import cmath\n",
        "\n",
        "def solve_quartic(a, b, c, d, e):\n",
        "    p = (-3 * b ** 2 + 8 * a * c) / (8 * a ** 2)\n",
        "    q = (b ** 3 - 4 * a * b * c + 8 * a ** 2 * d) / (8 * a ** 3)\n",
        "    r = (-3 * b ** 4 + 16 * a * b ** 2 * c - 64 * a ** 2 * b * d + 256 * a ** 3 * e) / (256 * a ** 4)\n",
        "    A = cmath.sqrt(-3 * p ** 2 + 4 * r)\n",
        "    B = cmath.sqrt(-3 * p ** 2 - 4 * r)\n",
        "    x1 = (-b / (4 * a)) - (A + B) / (4 * a) - q / (4 * A * a)\n",
        "    x2 = (-b / (4 * a)) - (A - B) / (4 * a) - q / (4 * B * a)\n",
        "    x3 = (-b / (4 * a)) + (A - B) / (4 * a) - q / (4 * A * a)\n",
        "    x4 = (-b / (4 * a)) + (A + B) / (4 * a) - q / (4 * B * a)\n",
        "    return x1, x2, x3, x4\n",
        "\n",
        "a = float(input(\"Enter the coefficient of x^4: \"))\n",
        "b = float(input(\"Enter the coefficient of x^3: \"))\n",
        "c = float(input(\"Enter the coefficient of x^2: \"))\n",
        "d = float(input(\"Enter the coefficient of x: \"))\n",
        "e = float(input(\"Enter the constant term: \"))\n",
        "\n",
        "x1, x2, x3, x4 = solve_quartic(a, b, c, d, e)\n",
        "\n",
        "print(\"The roots of the quartic equation are:\")\n",
        "print(\"x1 =\", x1)\n",
        "print(\"x2 =\", x2)\n",
        "print(\"x3 =\", x3)\n",
        "print(\"x4 =\", x4)\n"
      ],
      "metadata": {
        "colab": {
          "base_uri": "https://localhost:8080/"
        },
        "id": "EUFdZ0TlhZf3",
        "outputId": "556467c9-7ac0-4e97-88eb-b8615a3d54ca"
      },
      "execution_count": null,
      "outputs": [
        {
          "output_type": "stream",
          "name": "stdout",
          "text": [
            "Enter the coefficient of x^4: 2\n",
            "Enter the coefficient of x^3: 2\n",
            "Enter the coefficient of x^2: 2\n",
            "Enter the coefficient of x: 2\n",
            "Enter the constant term: 2\n",
            "The roots of the quartic equation are:\n",
            "x1 = (-0.4829685363784297-0.2614562582918986j)\n",
            "x2 = (-0.4281524101717403+0.2988071523335984j)\n",
            "x3 = (-0.12666371603494903-0.2614562582918986j)\n",
            "x4 = (-0.0718475898282597+0.2988071523335984j)\n"
          ]
        }
      ]
    },
    {
      "cell_type": "code",
      "source": [
        "#Q30 Write a program that calculates the BMI(Body Mass Index )and provides health recommendations based on the user's input.\n",
        "height = float(input(\"Enter your height in meters: \"))\n",
        "weight = float(input(\"Enter your weight in kilograms: \"))\n",
        "\n",
        "bmi = weight / (height ** 2)\n",
        "\n",
        "print(\"Your BMI is {:.2f}\".format(bmi))\n",
        "\n",
        "if bmi < 18.5:\n",
        "    print(\"You are underweight.\")\n",
        "    print(\"You should eat more and consult a doctor if you continue to lose weight.\")\n",
        "elif bmi < 25:\n",
        "    print(\"You are at a healthy weight.\")\n",
        "    print(\"Keep up the good work!\")\n",
        "elif bmi < 30:\n",
        "    print(\"You are overweight.\")\n",
        "    print(\"You should exercise more and eat a balanced diet.\")\n",
        "else:\n",
        "    print(\"You are obese.\")\n",
        "    print(\"You should consult a doctor and make lifestyle changes.\")\n"
      ],
      "metadata": {
        "colab": {
          "base_uri": "https://localhost:8080/"
        },
        "id": "qpz7LBzBh1Wy",
        "outputId": "acec7e61-14bd-4645-cebe-e42bb0fbc3f9"
      },
      "execution_count": null,
      "outputs": [
        {
          "output_type": "stream",
          "name": "stdout",
          "text": [
            "Enter your height in meters: 1222\n",
            "Enter your weight in kilograms: 222\n",
            "Your BMI is 0.00\n",
            "You are underweight.\n",
            "You should eat more and consult a doctor if you continue to lose weight.\n"
          ]
        }
      ]
    },
    {
      "cell_type": "markdown",
      "source": [
        "Challenge Level:\n"
      ],
      "metadata": {
        "id": "ZwC60zbtIl4D"
      }
    },
    {
      "cell_type": "code",
      "source": [
        "#Q31 Here is a python program that validates a password based on complexity rules:\n",
        "def validate_password(password: str) -> str:\n",
        "    has_lower = any(c.islower() for c in password)\n",
        "    has_upper = any(c.isupper() for c in password)\n",
        "    has_digit = any(c.isdigit() for c in password)\n",
        "    has_special = any(c in \"!@#$%^&*()-+\" for c in password)\n",
        "    is_long_enough = len(password) >= 8\n",
        "    if has_lower and has_upper and has_digit and has_special and is_long_enough:\n",
        "        return \"Strong\"\n",
        "    elif (has_lower or has_upper) and has_special and len(password) >= 6:\n",
        "        return \"Moderate\"\n",
        "    else:\n",
        "        return \"Weak\"\n",
        "\n",
        "password = \"GeeksforGeeks!@12\"\n",
        "print(f\"Strength of password: **{validate_password(password)}**\")\n"
      ],
      "metadata": {
        "id": "y8iI2nWQkdgP",
        "colab": {
          "base_uri": "https://localhost:8080/"
        },
        "outputId": "1180fdef-dc38-4473-be50-912bc1f751cd"
      },
      "execution_count": 1,
      "outputs": [
        {
          "output_type": "stream",
          "name": "stdout",
          "text": [
            "Strength of password: **Strong**\n"
          ]
        }
      ]
    },
    {
      "cell_type": "code",
      "source": [
        "#Q32 Here is a python program that performs matrix addition and substraction based on user input:\n",
        "def matrix_addition(matrix1: list[list[int]], matrix2: list[list[int]]) -> list[list[int]]:\n",
        "    result = []\n",
        "    for i in range(len(matrix1)):\n",
        "        row = []\n",
        "        for j in range(len(matrix1[0])):\n",
        "            row.append(matrix1[i][j] + matrix2[i][j])\n",
        "        result.append(row)\n",
        "    return result\n",
        "\n",
        "def matrix_subtraction(matrix1: list[list[int]], matrix2: list[list[int]]) -> list[list[int]]:\n",
        "    result = []\n",
        "    for i in range(len(matrix1)):\n",
        "        row = []\n",
        "        for j in range(len(matrix1[0])):\n",
        "            row.append(matrix1[i][j] - matrix2[i][j])\n",
        "        result.append(row)\n",
        "    return result\n",
        "\n",
        "matrix1 = [[1, 2], [3, 4]]\n",
        "matrix2 = [[5, 6], [7, 8]]\n",
        "print(f\"Matrix addition: **{matrix_addition(matrix1, matrix2)}**\")\n",
        "print(f\"Matrix subtraction: **{matrix_subtraction(matrix1, matrix2)}**\")\n"
      ],
      "metadata": {
        "colab": {
          "base_uri": "https://localhost:8080/"
        },
        "id": "vchgx6KKLlPh",
        "outputId": "ecb3d06c-0636-4bc1-bf2e-ade87bc6bf9d"
      },
      "execution_count": 2,
      "outputs": [
        {
          "output_type": "stream",
          "name": "stdout",
          "text": [
            "Matrix addition: **[[6, 8], [10, 12]]**\n",
            "Matrix subtraction: **[[-4, -4], [-4, -4]]**\n"
          ]
        }
      ]
    },
    {
      "cell_type": "code",
      "source": [
        "#Q33 Here is a pythom program that calculates the greatest common divisor (GCD) of two numbers using the Euclidean algorithm :\n",
        "def gcd(a: int, b: int) -> int:\n",
        "    while b:\n",
        "        a, b = b, a % b\n",
        "    return a\n",
        "\n",
        "a = 24\n",
        "b = 36\n",
        "print(f\"GCD of {a} and {b}: **{gcd(a, b)}**\")\n"
      ],
      "metadata": {
        "colab": {
          "base_uri": "https://localhost:8080/"
        },
        "id": "8Fzszxf-L_0X",
        "outputId": "a4de4614-1628-4acf-9d2b-eddcf9020871"
      },
      "execution_count": 3,
      "outputs": [
        {
          "output_type": "stream",
          "name": "stdout",
          "text": [
            "GCD of 24 and 36: **12**\n"
          ]
        }
      ]
    },
    {
      "cell_type": "code",
      "source": [
        "#Q34 Here is a python program that performs matrix multiplication using nested loops and conditional statements:\n",
        "def matrix_multiplication(matrix1: list[list[int]], matrix2: list[list[int]]) -> list[list[int]]:\n",
        "    result = []\n",
        "    for i in range(len(matrix1)):\n",
        "        row = []\n",
        "        for j in range(len(matrix2[0])):\n",
        "            element = 0\n",
        "            for k in range(len(matrix2)):\n",
        "                element += matrix1[i][k] * matrix2[k][j]\n",
        "            row.append(element)\n",
        "        result.append(row)\n",
        "    return result\n",
        "\n",
        "matrix1 = [[1, 2], [3, 4]]\n",
        "matrix2 = [[5, 6], [7, 8]]\n",
        "print(f\"Matrix multiplication: **{matrix_multiplication(matrix1, matrix2)}**\")\n"
      ],
      "metadata": {
        "colab": {
          "base_uri": "https://localhost:8080/"
        },
        "id": "9j_NC-YXMbou",
        "outputId": "bf4f8174-47c7-43b7-e372-55bf784ac862"
      },
      "execution_count": 4,
      "outputs": [
        {
          "output_type": "stream",
          "name": "stdout",
          "text": [
            "Matrix multiplication: **[[19, 22], [43, 50]]**\n"
          ]
        }
      ]
    },
    {
      "cell_type": "code",
      "source": [
        "#Q35 Here is a python program that simulates a basic text - based tic-tac-toe game against the computer:\n",
        "import random\n",
        "\n",
        "def print_board(board: list[list[str]]) -> None:\n",
        "    for row in board:\n",
        "        print(\" | \".join(row))\n",
        "\n",
        "def get_computer_move(board: list[list[str]]) -> tuple[int, int]:\n",
        "    available_moves = []\n",
        "    for i in range(3):\n",
        "        for j in range(3):\n",
        "            if board[i][j] == \" \":\n",
        "                available_moves.append((i, j))\n",
        "    return random.choice(available_moves)\n",
        "\n",
        "def is_game_over(board: list[list[str]]) -> bool:\n",
        "    for i in range(3):\n",
        "        if board[i][0] != \" \" and board[i][0] == board[i][1] == board[i][2]:\n",
        "            return True\n",
        "        if board[0][i] != \" \" and board[0][i] == board[1][i] == board[2][i]:\n",
        "            return True\n",
        "    if board[0][0] != \" \" and board[0][0] == board[1][1] == board[2][2]:\n",
        "        return True\n",
        "    if board[0][2] != \" \" and board[0][2] == board[1][1] == board[2][0]:\n",
        "        return True\n",
        "    for i in range(3):\n",
        "        for j in range(3):\n",
        "            if board[i][j] == \" \":\n",
        "                return False\n",
        "    return True\n",
        "\n",
        "def play_tic_tac_toe() -> None:\n",
        "    board = [[\" \", \" \", \" \"],\n",
        "             [\" \", \" \", \" \"],\n",
        "             [\" \", \" \", \" \"]]\n",
        "    player = \"X\"\n",
        "    while not is_game_over(board):\n",
        "        print_board(board)\n",
        "        if player == \"X\":\n",
        "            row = int(input(\"Enter row (1-3): \")) - 1\n",
        "            col = int(input(\"Enter column (1-3): \")) - 1\n",
        "            if board[row][col] != \" \":\n",
        "                print(\"That spot is already taken!\")\n",
        "                continue\n",
        "            board[row][col] = \"X\"\n",
        "        else:\n",
        "            row, col = get_computer_move(board)\n",
        "            board[row][col] = \"O\"\n",
        "            print(f\"The computer chose row {row+1}, column {col+1}\")\n",
        "        player = \"O\" if player == \"X\" else \"X\"\n",
        "    print_board(board)\n",
        "    if is_game_over(board):\n",
        "        print(f\"{player} wins!\")\n",
        "    else:\n",
        "        print(\"It's a tie!\")\n",
        "\n",
        "play_tic_tac_toe()\n"
      ],
      "metadata": {
        "colab": {
          "base_uri": "https://localhost:8080/"
        },
        "id": "6Cm8Dn-bUDN1",
        "outputId": "dede6dd1-8391-4ee1-ff37-470b25de86db"
      },
      "execution_count": null,
      "outputs": [
        {
          "output_type": "stream",
          "name": "stdout",
          "text": [
            "  |   |  \n",
            "  |   |  \n",
            "  |   |  \n",
            "Enter row (1-3): 2\n",
            "Enter column (1-3): 2\n",
            "  |   |  \n",
            "  | X |  \n",
            "  |   |  \n",
            "The computer chose row 1, column 3\n",
            "  |   | O\n",
            "  | X |  \n",
            "  |   |  \n",
            "Enter row (1-3): 2\n",
            "Enter column (1-3): 2\n",
            "That spot is already taken!\n",
            "  |   | O\n",
            "  | X |  \n",
            "  |   |  \n",
            "Enter row (1-3): 2\n",
            "Enter column (1-3): 3\n",
            "  |   | O\n",
            "  | X | X\n",
            "  |   |  \n",
            "The computer chose row 1, column 1\n",
            "O |   | O\n",
            "  | X | X\n",
            "  |   |  \n"
          ]
        }
      ]
    },
    {
      "cell_type": "code",
      "source": [
        "#Q36 Here is a python program that generates Fibonacci numbers uo to a specified term using iterative methods:\n",
        "def generate_fibonacci(n: int) -> list[int]:\n",
        "    if n <= 0:\n",
        "        return []\n",
        "    elif n == 1:\n",
        "        return [0]\n",
        "    elif n == 2:\n",
        "        return [0, 1]\n",
        "    else:\n",
        "        result = [0, 1]\n",
        "        for i in range(2, n):\n",
        "            result.append(result[i-1] + result[i-2])\n",
        "        return result\n",
        "\n",
        "n = 10\n",
        "print(f\"Fibonacci sequence up to {n}: **{generate_fibonacci(n)}**\")\n"
      ],
      "metadata": {
        "colab": {
          "base_uri": "https://localhost:8080/"
        },
        "id": "Dc2ELXrrUbmr",
        "outputId": "0d92ab05-a7b2-4633-e890-e4fbeda76852"
      },
      "execution_count": 10,
      "outputs": [
        {
          "output_type": "stream",
          "name": "stdout",
          "text": [
            "Fibonacci sequence up to 10: **[0, 1, 1, 2, 3, 5, 8, 13, 21, 34]**\n"
          ]
        }
      ]
    },
    {
      "cell_type": "code",
      "source": [
        "#Q37 Here is a Python program that calculates the nth term of the fibonacci sequence using memoization:\n",
        "def fibonacci(n: int, memo: dict[int, int]) -> int:\n",
        "    if n in memo:\n",
        "        return memo[n]\n",
        "    if n <= 2:\n",
        "        return 1\n",
        "    memo[n] = fibonacci(n-1, memo) + fibonacci(n-2, memo)\n",
        "    return memo[n]\n",
        "\n",
        "n = 10\n",
        "memo = {}\n",
        "print(f\"The {n}th term of the Fibonacci sequence is **{fibonacci(n, memo)}**\")\n"
      ],
      "metadata": {
        "colab": {
          "base_uri": "https://localhost:8080/"
        },
        "id": "68evqeQjV4hE",
        "outputId": "6ebeda2c-fb4d-4a57-948f-94eb1c62b925"
      },
      "execution_count": 12,
      "outputs": [
        {
          "output_type": "stream",
          "name": "stdout",
          "text": [
            "The 10th term of the Fibonacci sequence is **55**\n"
          ]
        }
      ]
    },
    {
      "cell_type": "code",
      "source": [
        "#Q38 Here is a python program that generates a calendar for a given month and year using conditional statements:\n",
        "def generate_calendar(month: int, year: int) -> str:\n",
        "    months = [\"January\", \"February\", \"March\", \"April\", \"May\", \"June\", \"July\", \"August\", \"September\", \"October\", \"November\", \"December\"]\n",
        "    days_in_month = [31, 28 if year % 4 != 0 or (year % 100 == 0 and year % 400 != 0) else 29, 31, 30, 31, 30, 31, 31, 30, 31, 30, 31]\n",
        "    days_of_week = [\"Su\", \"Mo\", \"Tu\", \"We\", \"Th\", \"Fr\", \"Sa\"]\n",
        "    month_name = months[month-1]\n",
        "    num_days = days_in_month[month-1]\n",
        "    first_day_of_month = (sum(days_in_month[:month-1]) + 1 + (year-1)*365 + (year-1)//4 - (year-1)//100 + (year-1)//400) % 7\n",
        "    calendar = f\"{month_name} {year}\\n\"\n",
        "    for day in days_of_week:\n",
        "        calendar += f\"{day} \"\n",
        "    calendar += \"\\n\"\n",
        "    for i in range(first_day_of_month):\n",
        "        calendar += \"   \"\n",
        "    for i in range(1, num_days+1):\n",
        "        if i < 10:\n",
        "            calendar += f\" {i} \"\n",
        "        else:\n",
        "            calendar += f\"{i} \"\n",
        "        if (first_day_of_month + i - 1) % 7 == 6:\n",
        "            calendar += \"\\n\"\n",
        "        else:\n",
        "            calendar += \" \"\n",
        "    return calendar\n",
        "\n",
        "month = 11\n",
        "year = 2023\n",
        "print(f\"Calendar for {month}/{year}:\\n{generate_calendar(month, year)}\")\n"
      ],
      "metadata": {
        "colab": {
          "base_uri": "https://localhost:8080/"
        },
        "id": "dXTgh4sdWxqW",
        "outputId": "705d7886-8277-45b3-96e2-69b3aa590633"
      },
      "execution_count": 14,
      "outputs": [
        {
          "output_type": "stream",
          "name": "stdout",
          "text": [
            "Calendar for 11/2023:\n",
            "November 2023\n",
            "Su Mo Tu We Th Fr Sa \n",
            "          1   2   3   4 \n",
            " 5   6   7   8   9  10  11 \n",
            "12  13  14  15  16  17  18 \n",
            "19  20  21  22  23  24  25 \n",
            "26  27  28  29  30  \n"
          ]
        }
      ]
    },
    {
      "cell_type": "code",
      "source": [
        "#Q39  Here is a python program that simulates a basic text-based blackjack game against the computer:\n",
        "import random\n",
        "\n",
        "def deal_card() -> int:\n",
        "    return random.randint(1, 13)\n",
        "\n",
        "def calculate_score(cards: list[int]) -> int:\n",
        "    score = sum(cards)\n",
        "    if score > 21 and 11 in cards:\n",
        "        cards.remove(11)\n",
        "        cards.append(1)\n",
        "        score = sum(cards)\n",
        "    return score\n",
        "\n",
        "def compare(user_score: int, computer_score: int) -> str:\n",
        "    if user_score == computer_score:\n",
        "        return \"It's a draw!\"\n",
        "    elif computer_score == 21:\n",
        "        return \"Computer wins with a Blackjack!\"\n",
        "    elif user_score == 21:\n",
        "        return \"You win with a Blackjack!\"\n",
        "    elif user_score > 21:\n",
        "        return \"You went over. Computer wins!\"\n",
        "    elif computer_score > 21:\n",
        "        return \"Computer went over. You win!\"\n",
        "    elif user_score > computer_score:\n",
        "        return \"You win!\"\n",
        "    else:\n",
        "        return \"Computer wins!\"\n",
        "\n",
        "def play_blackjack() -> None:\n",
        "    user_cards = []\n",
        "    computer_cards = []\n",
        "    for i in range(2):\n",
        "        user_cards.append(deal_card())\n",
        "        computer_cards.append(deal_card())\n",
        "    while True:\n",
        "        user_score = calculate_score(user_cards)\n",
        "        computer_score = calculate_score(computer_cards)\n",
        "        print(f\"Your cards: {user_cards}, current score: {user_score}\")\n",
        "        print(f\"Computer's first card: {computer_cards[0]}\")\n",
        "        if user_score == 21 or computer_score == 21 or len(user_cards) == 5:\n",
        "            print(compare(user_score, computer_score))\n",
        "            return\n",
        "        elif user_score > 21:\n",
        "            print(compare(user_score, computer_score))\n",
        "            return\n",
        "        else:\n",
        "            hit = input(\"Type 'y' to get another card, type 'n' to pass: \")\n",
        "            if hit == \"y\":\n",
        "                user_cards.append(deal_card())\n",
        "            else:\n",
        "                while computer_score < 17:\n",
        "                    computer_cards.append(deal_card())\n",
        "                    computer_score = calculate_score(computer_cards)\n",
        "                print(f\"Your final hand: {user_cards}, final score: {user_score}\")\n",
        "                print(f\"Computer's final hand: {computer_cards}, final score: {computer_score}\")\n",
        "                print(compare(user_score, computer_score))\n",
        "                return\n",
        "\n",
        "play_blackjack()\n"
      ],
      "metadata": {
        "colab": {
          "base_uri": "https://localhost:8080/"
        },
        "id": "CUMf3W_vXEOC",
        "outputId": "dadbe42a-4bb4-4be8-d81a-2d2b4f41d74f"
      },
      "execution_count": 15,
      "outputs": [
        {
          "output_type": "stream",
          "name": "stdout",
          "text": [
            "Your cards: [2, 4], current score: 6\n",
            "Computer's first card: 6\n",
            "Type 'y' to get another card, type 'n' to pass: n\n",
            "Your final hand: [2, 4], final score: 6\n",
            "Computer's final hand: [6, 12], final score: 18\n",
            "Computer wins!\n"
          ]
        }
      ]
    },
    {
      "cell_type": "code",
      "source": [
        "#Q40 Here is a python program that generates the prime factors of a given number using trial division :\n",
        "def prime_factors(n: int) -> list[int]:\n",
        "    factors = []\n",
        "    i = 2\n",
        "    while i * i <= n:\n",
        "        if n % i:\n",
        "            i += 1\n",
        "        else:\n",
        "            n //= i\n",
        "            factors.append(i)\n",
        "    if n > 1:\n",
        "        factors.append(n)\n",
        "    return factors\n",
        "\n",
        "n = 60\n",
        "print(f\"Prime factors of {n}: **{prime_factors(n)}**\")\n"
      ],
      "metadata": {
        "colab": {
          "base_uri": "https://localhost:8080/"
        },
        "id": "hC-OlOWnYDf0",
        "outputId": "5aabf5a1-6709-4d63-ec9c-0e3cc346199d"
      },
      "execution_count": 16,
      "outputs": [
        {
          "output_type": "stream",
          "name": "stdout",
          "text": [
            "Prime factors of 60: **[2, 2, 3, 5]**\n"
          ]
        }
      ]
    },
    {
      "cell_type": "code",
      "source": [],
      "metadata": {
        "id": "Vet3DJCIYnyi"
      },
      "execution_count": null,
      "outputs": []
    }
  ]
}